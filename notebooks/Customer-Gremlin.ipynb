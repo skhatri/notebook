{
 "cells": [
  {
   "cell_type": "code",
   "execution_count": 3,
   "metadata": {},
   "outputs": [
    {
     "name": "stdout",
     "output_type": "stream",
     "text": [
      "set notebook config to:\n",
      "{\n",
      "  \"host\": \"tinkerpop\",\n",
      "  \"port\": 8182,\n",
      "  \"auth_mode\": \"DEFAULT\",\n",
      "  \"iam_credentials_provider_type\": \"ROLE\",\n",
      "  \"load_from_s3_arn\": \"\",\n",
      "  \"ssl\": false,\n",
      "  \"aws_region\": \"us-east-1\"\n",
      "}\n"
     ]
    },
    {
     "data": {
      "text/plain": [
       "<graph_notebook.configuration.generate_config.Configuration at 0x7fb80f7dad90>"
      ]
     },
     "execution_count": 3,
     "metadata": {},
     "output_type": "execute_result"
    }
   ],
   "source": [
    "%%graph_notebook_config\n",
    "\n",
    "{\n",
    "\"host\": \"tinkerpop\",\n",
    "\"port\": 8182,\n",
    "\"auth_mode\": \"DEFAULT\",\n",
    "\"iam_credentials_provider_type\": \"ROLE\",\n",
    "\"load_from_s3_arn\": \"\",\n",
    "\"ssl\": false,\n",
    "\"aws_region\": \"us-east-1\"\n",
    "}\n"
   ]
  },
  {
   "cell_type": "code",
   "execution_count": 113,
   "metadata": {},
   "outputs": [
    {
     "data": {
      "application/vnd.jupyter.widget-view+json": {
       "model_id": "54bc3cfc19bd48778f2b7ee122732f99",
       "version_major": 2,
       "version_minor": 0
      },
      "text/plain": [
       "Tab(children=(Output(layout=Layout(max_height='600px', overflow='scroll', width='100%')),), _titles={'0': 'Con…"
      ]
     },
     "metadata": {},
     "output_type": "display_data"
    }
   ],
   "source": [
    "\n",
    "%%gremlin\n",
    "\n",
    "    g.V().has(\"Account\", \"Loan\", \"CreditCard\").drop()\n",
    "\n",
    "    \n",
    "    g.addV(\"Customer\").\n",
    "        property(\"id\", \"customer_0\").\n",
    "        property(\"customer_id\", \"customer_0\").\n",
    "        property(\"name\", \"Michael\").as(\"michael\").\n",
    "    \n",
    "    addV(\"Account\").\n",
    "        property(\"id\", \"acc_14\").\n",
    "        property(\"acct_id\", \"acct_14\").as(\"acc1\").\n",
    "    addV(\"Loan\").\n",
    "         property(\"id\", \"loan_32\").\n",
    "         property(\"loan_id\", \"loan_32\").as(\"loan1\").\n",
    "    addV(\"CreditCard\").\n",
    "        property(\"id\", \"cc_17\").\n",
    "        property(\"cc_num\", \"cc_17\").as(\"cc1\").\n",
    "    \n",
    "        \n",
    "    addE(\"owns\").from(\"michael\").to(\"acc1\").property(\"role\", \"primary\").\n",
    "    addE(\"owes\").from(\"michael\").to(\"loan1\").\n",
    "    addE(\"uses\").from(\"michael\").to(\"cc1\").\n",
    "\n",
    "    addV(\"Customer\").\n",
    "        property(\"id\", \"customer_1\").\n",
    "        property(\"customer_id\", \"customer_1\").\n",
    "        property(\"name\", \"Maria\").as(\"maria\").\n",
    "        \n",
    "    addE(\"owns\").from(\"maria\").to(\"acc1\").property(\"role\", \"limited\").\n",
    "        \n",
    "        \n",
    "    addV(\"Customer\").\n",
    "        property(\"id\", \"customer_2\").\n",
    "        property(\"customer_id\", \"customer_2\").\n",
    "        property(\"name\", \"Rashika\").as(\"rashika\").\n",
    "        \n",
    "    addV(\"Account\").\n",
    "        property(\"id\", \"acct_5\").\n",
    "        property(\"acct_id\", \"acct_5\").as(\"acc5\").\n",
    "    \n",
    "    addV(\"CreditCard\").\n",
    "        property(\"id\", \"cc_32\").\n",
    "        property(\"cc_num\", \"cc_32\").as(\"cc_32\").\n",
    "        \n",
    "    addE(\"owns\").from(\"rashika\").to(\"acc5\").property(\"role\", \"primary\").\n",
    "    addE(\"uses\").from(\"rashika\").to(\"cc_32\").\n",
    "        \n",
    "        \n",
    "    addV(\"Customer\").\n",
    "        property(\"id\", \"customer_3\").\n",
    "        property(\"customer_id\", \"customer_3\").\n",
    "        property(\"name\", \"Jamie\").as(\"jamie\").\n",
    "    addV(\"Account\").\n",
    "        property(\"id\", \"acct_0\").\n",
    "        property(\"acct_id\", \"acct_0\").as(\"acc_0\").\n",
    "    addV(\"Loan\").\n",
    "        property(\"id\", \"loan_18\").\n",
    "        property(\"loan_id\", \"loan_18\").as(\"loan_18\").\n",
    "    addE(\"owns\").from(\"jamie\").to(\"acc_0\").property(\"role\", \"primary\").\n",
    "    addE(\"owes\").from(\"jamie\").to(\"loan_18\").\n",
    "        \n",
    "    addV(\"Customer\").\n",
    "        property(\"id\", \"customer_4\").\n",
    "        property(\"customer_id\", \"customer_4\").\n",
    "        property(\"name\", \"Aaliyah\").as(\"aaliyah\").\n",
    "    addV(\"Loan\").\n",
    "        property(\"id\", \"loan_80\").\n",
    "        property(\"loan_id\", \"loan_80\").as(\"loan80\").\n",
    "\n",
    "    addE(\"owns\").from(\"aaliyah\").to(\"acc_0\").property(\"role\", \"primary\").\n",
    "    addE(\"owes\").from(\"aaliyah\").to(\"loan80\").\n",
    "    addE(\"owes\").from(\"aaliyah\").to(\"loan_18\")\n"
   ]
  },
  {
   "cell_type": "code",
   "execution_count": 114,
   "metadata": {},
   "outputs": [
    {
     "data": {
      "application/vnd.jupyter.widget-view+json": {
       "model_id": "d29e7fc2bee647b7bfff676264e6eafb",
       "version_major": 2,
       "version_minor": 0
      },
      "text/plain": [
       "Tab(children=(Output(layout=Layout(max_height='600px', overflow='scroll', width='100%')),), _titles={'0': 'Con…"
      ]
     },
     "metadata": {},
     "output_type": "display_data"
    }
   ],
   "source": [
    "%%gremlin\n",
    "g.V().limit(4)"
   ]
  },
  {
   "cell_type": "markdown",
   "metadata": {},
   "source": [
    "#### Creditcard number owned by Customer_2"
   ]
  },
  {
   "cell_type": "code",
   "execution_count": 115,
   "metadata": {},
   "outputs": [
    {
     "data": {
      "application/vnd.jupyter.widget-view+json": {
       "model_id": "994e8794540942059aca09bd7f27ac3a",
       "version_major": 2,
       "version_minor": 0
      },
      "text/plain": [
       "Tab(children=(Output(layout=Layout(max_height='600px', overflow='scroll', width='100%')),), _titles={'0': 'Con…"
      ]
     },
     "metadata": {},
     "output_type": "display_data"
    }
   ],
   "source": [
    "%%gremlin\n",
    "\n",
    "g.V().has(\"Customer\", \"customer_id\", \"customer_2\").\n",
    "out(\"uses\").\n",
    "values(\"cc_num\")"
   ]
  },
  {
   "cell_type": "markdown",
   "metadata": {},
   "source": [
    "#### Account owned by customer_0"
   ]
  },
  {
   "cell_type": "code",
   "execution_count": 116,
   "metadata": {},
   "outputs": [
    {
     "data": {
      "application/vnd.jupyter.widget-view+json": {
       "model_id": "ef5b605209274e6a97540e96fd61786a",
       "version_major": 2,
       "version_minor": 0
      },
      "text/plain": [
       "Tab(children=(Output(layout=Layout(max_height='600px', overflow='scroll', width='100%')),), _titles={'0': 'Con…"
      ]
     },
     "metadata": {},
     "output_type": "display_data"
    }
   ],
   "source": [
    "%%gremlin\n",
    "\n",
    "g.V().has(\"Customer\", \"customer_id\", \"customer_0\").\n",
    "    out(\"owns\").\n",
    "    values(\"acct_id\")"
   ]
  },
  {
   "cell_type": "markdown",
   "metadata": {},
   "source": [
    "#### Name and account customer_0"
   ]
  },
  {
   "cell_type": "code",
   "execution_count": 117,
   "metadata": {},
   "outputs": [
    {
     "data": {
      "application/vnd.jupyter.widget-view+json": {
       "model_id": "82f52a37003747ff93228f43422a1ad3",
       "version_major": 2,
       "version_minor": 0
      },
      "text/plain": [
       "Tab(children=(Output(layout=Layout(max_height='600px', overflow='scroll', width='100%')),), _titles={'0': 'Con…"
      ]
     },
     "metadata": {},
     "output_type": "display_data"
    }
   ],
   "source": [
    "%%gremlin\n",
    "\n",
    "g.V().has(\"Customer\", \"customer_id\", \"customer_0\").\n",
    "as(\"customer\").\n",
    "out(\"owns\").\n",
    "as(\"account\").\n",
    "select(\"customer\", \"account\").\n",
    "by(values(\"name\")).by(values(\"acct_id\"))"
   ]
  },
  {
   "cell_type": "markdown",
   "metadata": {},
   "source": [
    "#### Which loan does customer_4 own?"
   ]
  },
  {
   "cell_type": "code",
   "execution_count": 118,
   "metadata": {},
   "outputs": [
    {
     "data": {
      "application/vnd.jupyter.widget-view+json": {
       "model_id": "302e5d4464c244419522ae8946d5b529",
       "version_major": 2,
       "version_minor": 0
      },
      "text/plain": [
       "Tab(children=(Output(layout=Layout(max_height='600px', overflow='scroll', width='100%')),), _titles={'0': 'Con…"
      ]
     },
     "metadata": {},
     "output_type": "display_data"
    }
   ],
   "source": [
    "%%gremlin\n",
    "g.V().has(\"Customer\", \"customer_id\", \"customer_4\").\n",
    "out(\"owes\").\n",
    "values(\"loan_id\")"
   ]
  },
  {
   "cell_type": "markdown",
   "metadata": {},
   "source": [
    "#### Customer_0 detail"
   ]
  },
  {
   "cell_type": "code",
   "execution_count": 119,
   "metadata": {},
   "outputs": [
    {
     "data": {
      "application/vnd.jupyter.widget-view+json": {
       "model_id": "65afede2ceb3410b96bfea4e82a76b78",
       "version_major": 2,
       "version_minor": 0
      },
      "text/plain": [
       "Tab(children=(Output(layout=Layout(max_height='600px', overflow='scroll', width='100%')),), _titles={'0': 'Con…"
      ]
     },
     "metadata": {},
     "output_type": "display_data"
    }
   ],
   "source": [
    "%%gremlin\n",
    "g.V().has(\"Customer\", \"customer_id\", \"customer_0\").\n",
    "    out().elementMap()"
   ]
  },
  {
   "cell_type": "code",
   "execution_count": 65,
   "metadata": {},
   "outputs": [
    {
     "data": {
      "application/vnd.jupyter.widget-view+json": {
       "model_id": "09c44ddb9baa4f83ac3568ef6f012862",
       "version_major": 2,
       "version_minor": 0
      },
      "text/plain": [
       "Tab(children=(Output(layout=Layout(max_height='600px', overflow='scroll', width='100%')), Force(network=<graph…"
      ]
     },
     "metadata": {},
     "output_type": "display_data"
    }
   ],
   "source": [
    "%%gremlin -p v,oute,inv,oute,inv,oute,inv\n",
    "g.V().has(\"Customer\", \"customer_id\", \"customer_0\").as(\"Customer0\").outE().inV().path()\n"
   ]
  },
  {
   "cell_type": "code",
   "execution_count": 142,
   "metadata": {},
   "outputs": [
    {
     "data": {
      "application/vnd.jupyter.widget-view+json": {
       "model_id": "a3177a0827644e46a27a7055ae366fe1",
       "version_major": 2,
       "version_minor": 0
      },
      "text/plain": [
       "Tab(children=(Output(layout=Layout(max_height='600px', overflow='scroll', width='100%')), Force(network=<graph…"
      ]
     },
     "metadata": {},
     "output_type": "display_data"
    }
   ],
   "source": [
    "%%gremlin\n",
    "g.V().out(\"owns\").path()"
   ]
  },
  {
   "cell_type": "code",
   "execution_count": null,
   "metadata": {},
   "outputs": [],
   "source": []
  }
 ],
 "metadata": {
  "kernelspec": {
   "display_name": "Python 3",
   "language": "python",
   "name": "python3"
  },
  "language_info": {
   "codemirror_mode": {
    "name": "ipython",
    "version": 3
   },
   "file_extension": ".py",
   "mimetype": "text/x-python",
   "name": "python",
   "nbconvert_exporter": "python",
   "pygments_lexer": "ipython3",
   "version": "3.8.6"
  }
 },
 "nbformat": 4,
 "nbformat_minor": 4
}
